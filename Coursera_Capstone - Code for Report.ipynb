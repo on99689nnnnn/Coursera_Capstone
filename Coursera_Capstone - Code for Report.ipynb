{
 "cells": [
  {
   "cell_type": "code",
   "execution_count": 185,
   "metadata": {
    "scrolled": true
   },
   "outputs": [
    {
     "name": "stderr",
     "output_type": "stream",
     "text": [
      "C:\\Users\\Alex Wong\\Anaconda3\\lib\\site-packages\\IPython\\core\\interactiveshell.py:3057: DtypeWarning: Columns (33) have mixed types. Specify dtype option on import or set low_memory=False.\n",
      "  interactivity=interactivity, compiler=compiler, result=result)\n",
      "C:\\Users\\Alex Wong\\Anaconda3\\lib\\site-packages\\pandas\\core\\frame.py:3940: SettingWithCopyWarning: \n",
      "A value is trying to be set on a copy of a slice from a DataFrame\n",
      "\n",
      "See the caveats in the documentation: http://pandas.pydata.org/pandas-docs/stable/indexing.html#indexing-view-versus-copy\n",
      "  errors=errors)\n"
     ]
    }
   ],
   "source": [
    "# preparation\n",
    "import numpy as np\n",
    "import pandas as pd\n",
    "df = pd.read_csv('https://s3.us.cloud-object-storage.appdomain.cloud/cf-courses-data/CognitiveClass/DP0701EN/version-2/Data-Collisions.csv', sep=',', delimiter=None, header='infer')\n",
    "pd.set_option('display.max_columns', None)\n",
    "df1=df\n",
    "df1=df[df.STATUS==\"Matched\"]\n",
    "df1.drop(['X','Y','SDOTCOLNUM','SEVERITYCODE.1','OBJECTID','INCKEY','COLDETKEY','EXCEPTRSNCODE','EXCEPTRSNDESC'], axis=1, index=None, columns=None, level=None, inplace=True, errors='raise')"
   ]
  },
  {
   "cell_type": "code",
   "execution_count": 189,
   "metadata": {},
   "outputs": [],
   "source": [
    "# Background Data Analysis:\n",
    "df2=df1.copy(deep=True) \n",
    "\n",
    "\n",
    "df2.dtypes\n",
    "df2.columns\n",
    "df2.count()\n",
    "df2.shape\n",
    "\n",
    "# Monday = 0, Sunday = 6\n",
    "# Monday = 0, Sunday = 6\n",
    "# Monday = 0, Sunday = 6 \n",
    "# Monday = 0, Sunday = 6\n",
    "# Monday = 0, Sunday = 6\n",
    "\n",
    "\n",
    "\n",
    "df2['INCDATE']= pd.to_datetime(df2['INCDATE']) \n",
    " \n",
    "df2['year'] = df2['INCDATE'].dt.year\n",
    "df2['month'] = df2['INCDATE'].dt.month\n",
    "df2['day'] = df2['INCDATE'].dt.day\n",
    "df2['weekday'] = df2['INCDATE'].dt.weekday \n"
   ]
  },
  {
   "cell_type": "code",
   "execution_count": 190,
   "metadata": {},
   "outputs": [
    {
     "data": {
      "text/plain": [
       "0          3\n",
       "1         12\n",
       "2         11\n",
       "3          3\n",
       "4          1\n",
       "5          4\n",
       "6         12\n",
       "7          4\n",
       "8          6\n",
       "9          3\n",
       "10         5\n",
       "11         8\n",
       "13        12\n",
       "14         3\n",
       "16         7\n",
       "17         1\n",
       "18         4\n",
       "19         6\n",
       "20         3\n",
       "21         3\n",
       "22         7\n",
       "23         9\n",
       "24         3\n",
       "25         4\n",
       "26        11\n",
       "27         7\n",
       "28         3\n",
       "29        11\n",
       "30        11\n",
       "31         7\n",
       "          ..\n",
       "194640    11\n",
       "194641    12\n",
       "194642    12\n",
       "194643    11\n",
       "194644     1\n",
       "194645    10\n",
       "194647    12\n",
       "194648    11\n",
       "194649    12\n",
       "194650     1\n",
       "194651    12\n",
       "194652    12\n",
       "194653    12\n",
       "194656     1\n",
       "194657    11\n",
       "194658     1\n",
       "194659    11\n",
       "194660    12\n",
       "194661     3\n",
       "194662    12\n",
       "194663     1\n",
       "194664    12\n",
       "194665    12\n",
       "194666     1\n",
       "194667    11\n",
       "194668    11\n",
       "194669    12\n",
       "194670     1\n",
       "194671     1\n",
       "194672    11\n",
       "Name: month, Length: 189786, dtype: int64"
      ]
     },
     "execution_count": 190,
     "metadata": {},
     "output_type": "execute_result"
    }
   ],
   "source": [
    "\n",
    "df2['month']"
   ]
  },
  {
   "cell_type": "markdown",
   "metadata": {},
   "source": [
    "# Test Case 1 UNDERINFL - Whether or not a driver involved was under the influence of drugs or alcohol."
   ]
  },
  {
   "cell_type": "code",
   "execution_count": 191,
   "metadata": {},
   "outputs": [
    {
     "name": "stdout",
     "output_type": "stream",
     "text": [
      "4.81\n"
     ]
    }
   ],
   "source": [
    "# Driver involved was under the influence of drugs or alcohol = 9121\n",
    "# Total case = 189786\n",
    "#Overall %\n",
    "\n",
    "print (round(9121/189786*100,2))\n",
    "#4.81%\n"
   ]
  },
  {
   "cell_type": "code",
   "execution_count": 192,
   "metadata": {
    "scrolled": true
   },
   "outputs": [
    {
     "name": "stderr",
     "output_type": "stream",
     "text": [
      "C:\\Users\\Alex Wong\\Anaconda3\\lib\\site-packages\\ipykernel_launcher.py:4: SettingWithCopyWarning: \n",
      "A value is trying to be set on a copy of a slice from a DataFrame.\n",
      "Try using .loc[row_indexer,col_indexer] = value instead\n",
      "\n",
      "See the caveats in the documentation: http://pandas.pydata.org/pandas-docs/stable/indexing.html#indexing-view-versus-copy\n",
      "  after removing the cwd from sys.path.\n"
     ]
    }
   ],
   "source": [
    "\n",
    "df_UNDERINF = df2[(df2['UNDERINFL'] == 'Y') | (df2['UNDERINFL'] == '1')]\n",
    "\n",
    "df_UNDERINF.count()\n",
    "df_UNDERINF[\"y or 1\"]=1   "
   ]
  },
  {
   "cell_type": "code",
   "execution_count": 193,
   "metadata": {},
   "outputs": [
    {
     "data": {
      "text/html": [
       "<div>\n",
       "<style scoped>\n",
       "    .dataframe tbody tr th:only-of-type {\n",
       "        vertical-align: middle;\n",
       "    }\n",
       "\n",
       "    .dataframe tbody tr th {\n",
       "        vertical-align: top;\n",
       "    }\n",
       "\n",
       "    .dataframe thead th {\n",
       "        text-align: right;\n",
       "    }\n",
       "</style>\n",
       "<table border=\"1\" class=\"dataframe\">\n",
       "  <thead>\n",
       "    <tr style=\"text-align: right;\">\n",
       "      <th></th>\n",
       "      <th>SEVERITYCODE</th>\n",
       "      <th>REPORTNO</th>\n",
       "      <th>STATUS</th>\n",
       "      <th>ADDRTYPE</th>\n",
       "      <th>INTKEY</th>\n",
       "      <th>LOCATION</th>\n",
       "      <th>SEVERITYDESC</th>\n",
       "      <th>COLLISIONTYPE</th>\n",
       "      <th>PERSONCOUNT</th>\n",
       "      <th>PEDCOUNT</th>\n",
       "      <th>PEDCYLCOUNT</th>\n",
       "      <th>VEHCOUNT</th>\n",
       "      <th>INCDATE</th>\n",
       "      <th>INCDTTM</th>\n",
       "      <th>JUNCTIONTYPE</th>\n",
       "      <th>SDOT_COLCODE</th>\n",
       "      <th>SDOT_COLDESC</th>\n",
       "      <th>INATTENTIONIND</th>\n",
       "      <th>UNDERINFL</th>\n",
       "      <th>WEATHER</th>\n",
       "      <th>ROADCOND</th>\n",
       "      <th>LIGHTCOND</th>\n",
       "      <th>PEDROWNOTGRNT</th>\n",
       "      <th>SPEEDING</th>\n",
       "      <th>ST_COLCODE</th>\n",
       "      <th>ST_COLDESC</th>\n",
       "      <th>SEGLANEKEY</th>\n",
       "      <th>CROSSWALKKEY</th>\n",
       "      <th>HITPARKEDCAR</th>\n",
       "      <th>year</th>\n",
       "      <th>month</th>\n",
       "      <th>day</th>\n",
       "      <th>weekday</th>\n",
       "    </tr>\n",
       "  </thead>\n",
       "  <tbody>\n",
       "  </tbody>\n",
       "</table>\n",
       "</div>"
      ],
      "text/plain": [
       "Empty DataFrame\n",
       "Columns: [SEVERITYCODE, REPORTNO, STATUS, ADDRTYPE, INTKEY, LOCATION, SEVERITYDESC, COLLISIONTYPE, PERSONCOUNT, PEDCOUNT, PEDCYLCOUNT, VEHCOUNT, INCDATE, INCDTTM, JUNCTIONTYPE, SDOT_COLCODE, SDOT_COLDESC, INATTENTIONIND, UNDERINFL, WEATHER, ROADCOND, LIGHTCOND, PEDROWNOTGRNT, SPEEDING, ST_COLCODE, ST_COLDESC, SEGLANEKEY, CROSSWALKKEY, HITPARKEDCAR, year, month, day, weekday]\n",
       "Index: []"
      ]
     },
     "execution_count": 193,
     "metadata": {},
     "output_type": "execute_result"
    }
   ],
   "source": [
    "df2[(df2['year']==2020) & (df2['UNDERINFL']==\"Y\")]"
   ]
  },
  {
   "cell_type": "code",
   "execution_count": 194,
   "metadata": {},
   "outputs": [
    {
     "data": {
      "text/plain": [
       "0          3\n",
       "1         12\n",
       "2         11\n",
       "3          3\n",
       "4          1\n",
       "5          4\n",
       "6         12\n",
       "7          4\n",
       "8          6\n",
       "9          3\n",
       "10         5\n",
       "11         8\n",
       "13        12\n",
       "14         3\n",
       "16         7\n",
       "17         1\n",
       "18         4\n",
       "19         6\n",
       "20         3\n",
       "21         3\n",
       "22         7\n",
       "23         9\n",
       "24         3\n",
       "25         4\n",
       "26        11\n",
       "27         7\n",
       "28         3\n",
       "29        11\n",
       "30        11\n",
       "31         7\n",
       "          ..\n",
       "194640    11\n",
       "194641    12\n",
       "194642    12\n",
       "194643    11\n",
       "194644     1\n",
       "194645    10\n",
       "194647    12\n",
       "194648    11\n",
       "194649    12\n",
       "194650     1\n",
       "194651    12\n",
       "194652    12\n",
       "194653    12\n",
       "194656     1\n",
       "194657    11\n",
       "194658     1\n",
       "194659    11\n",
       "194660    12\n",
       "194661     3\n",
       "194662    12\n",
       "194663     1\n",
       "194664    12\n",
       "194665    12\n",
       "194666     1\n",
       "194667    11\n",
       "194668    11\n",
       "194669    12\n",
       "194670     1\n",
       "194671     1\n",
       "194672    11\n",
       "Name: month, Length: 189786, dtype: int64"
      ]
     },
     "execution_count": 194,
     "metadata": {},
     "output_type": "execute_result"
    }
   ],
   "source": [
    "df2['month']"
   ]
  },
  {
   "cell_type": "code",
   "execution_count": 155,
   "metadata": {},
   "outputs": [
    {
     "data": {
      "text/html": [
       "<div>\n",
       "<style scoped>\n",
       "    .dataframe tbody tr th:only-of-type {\n",
       "        vertical-align: middle;\n",
       "    }\n",
       "\n",
       "    .dataframe tbody tr th {\n",
       "        vertical-align: top;\n",
       "    }\n",
       "\n",
       "    .dataframe thead th {\n",
       "        text-align: right;\n",
       "    }\n",
       "</style>\n",
       "<table border=\"1\" class=\"dataframe\">\n",
       "  <thead>\n",
       "    <tr style=\"text-align: right;\">\n",
       "      <th></th>\n",
       "      <th>y or 1</th>\n",
       "    </tr>\n",
       "    <tr>\n",
       "      <th>year</th>\n",
       "      <th></th>\n",
       "    </tr>\n",
       "  </thead>\n",
       "  <tbody>\n",
       "    <tr>\n",
       "      <th>2004</th>\n",
       "      <td>568</td>\n",
       "    </tr>\n",
       "    <tr>\n",
       "      <th>2005</th>\n",
       "      <td>688</td>\n",
       "    </tr>\n",
       "    <tr>\n",
       "      <th>2006</th>\n",
       "      <td>725</td>\n",
       "    </tr>\n",
       "    <tr>\n",
       "      <th>2007</th>\n",
       "      <td>695</td>\n",
       "    </tr>\n",
       "    <tr>\n",
       "      <th>2008</th>\n",
       "      <td>605</td>\n",
       "    </tr>\n",
       "    <tr>\n",
       "      <th>2009</th>\n",
       "      <td>592</td>\n",
       "    </tr>\n",
       "    <tr>\n",
       "      <th>2010</th>\n",
       "      <td>589</td>\n",
       "    </tr>\n",
       "    <tr>\n",
       "      <th>2011</th>\n",
       "      <td>621</td>\n",
       "    </tr>\n",
       "    <tr>\n",
       "      <th>2012</th>\n",
       "      <td>594</td>\n",
       "    </tr>\n",
       "    <tr>\n",
       "      <th>2013</th>\n",
       "      <td>447</td>\n",
       "    </tr>\n",
       "    <tr>\n",
       "      <th>2014</th>\n",
       "      <td>499</td>\n",
       "    </tr>\n",
       "    <tr>\n",
       "      <th>2015</th>\n",
       "      <td>418</td>\n",
       "    </tr>\n",
       "    <tr>\n",
       "      <th>2016</th>\n",
       "      <td>523</td>\n",
       "    </tr>\n",
       "    <tr>\n",
       "      <th>2017</th>\n",
       "      <td>441</td>\n",
       "    </tr>\n",
       "    <tr>\n",
       "      <th>2018</th>\n",
       "      <td>589</td>\n",
       "    </tr>\n",
       "    <tr>\n",
       "      <th>2019</th>\n",
       "      <td>527</td>\n",
       "    </tr>\n",
       "  </tbody>\n",
       "</table>\n",
       "</div>"
      ],
      "text/plain": [
       "      y or 1\n",
       "year        \n",
       "2004     568\n",
       "2005     688\n",
       "2006     725\n",
       "2007     695\n",
       "2008     605\n",
       "2009     592\n",
       "2010     589\n",
       "2011     621\n",
       "2012     594\n",
       "2013     447\n",
       "2014     499\n",
       "2015     418\n",
       "2016     523\n",
       "2017     441\n",
       "2018     589\n",
       "2019     527"
      ]
     },
     "execution_count": 155,
     "metadata": {},
     "output_type": "execute_result"
    }
   ],
   "source": [
    "df_UNDERINF[[\"y or 1\",\"year\"]].groupby(['year']).count()"
   ]
  },
  {
   "cell_type": "code",
   "execution_count": 180,
   "metadata": {
    "scrolled": true
   },
   "outputs": [
    {
     "data": {
      "text/plain": [
       "185763    False\n",
       "186072    False\n",
       "185874    False\n",
       "187158    False\n",
       "187155    False\n",
       "187580    False\n",
       "186663    False\n",
       "187967    False\n",
       "185581    False\n",
       "185549    False\n",
       "187379    False\n",
       "188148    False\n",
       "188605    False\n",
       "186997    False\n",
       "187633    False\n",
       "187477    False\n",
       "187030    False\n",
       "187216    False\n",
       "191047    False\n",
       "188900    False\n",
       "187644    False\n",
       "188064    False\n",
       "187920    False\n",
       "186958    False\n",
       "187663    False\n",
       "191239    False\n",
       "188669    False\n",
       "187135    False\n",
       "185468    False\n",
       "187642    False\n",
       "          ...  \n",
       "14095     False\n",
       "10704     False\n",
       "10706     False\n",
       "3798      False\n",
       "6381      False\n",
       "11054     False\n",
       "5774      False\n",
       "13522     False\n",
       "10029     False\n",
       "14249     False\n",
       "4455      False\n",
       "14469     False\n",
       "12514     False\n",
       "13771     False\n",
       "9223      False\n",
       "3857      False\n",
       "3353      False\n",
       "13180     False\n",
       "13325     False\n",
       "6425      False\n",
       "12244     False\n",
       "8993      False\n",
       "7705      False\n",
       "9092      False\n",
       "2456      False\n",
       "5968      False\n",
       "8815      False\n",
       "2631      False\n",
       "7716      False\n",
       "5079      False\n",
       "Name: month, Length: 9121, dtype: bool"
      ]
     },
     "execution_count": 180,
     "metadata": {},
     "output_type": "execute_result"
    }
   ],
   "source": [
    "df_UNDERINF[[\"y or 1\",\"month\"]].groupby(['month']).count()\n",
    "\n",
    " "
   ]
  },
  {
   "cell_type": "code",
   "execution_count": 177,
   "metadata": {},
   "outputs": [
    {
     "data": {
      "text/html": [
       "<div>\n",
       "<style scoped>\n",
       "    .dataframe tbody tr th:only-of-type {\n",
       "        vertical-align: middle;\n",
       "    }\n",
       "\n",
       "    .dataframe tbody tr th {\n",
       "        vertical-align: top;\n",
       "    }\n",
       "\n",
       "    .dataframe thead th {\n",
       "        text-align: right;\n",
       "    }\n",
       "</style>\n",
       "<table border=\"1\" class=\"dataframe\">\n",
       "  <thead>\n",
       "    <tr style=\"text-align: right;\">\n",
       "      <th></th>\n",
       "      <th>y or 1</th>\n",
       "    </tr>\n",
       "    <tr>\n",
       "      <th>weekday</th>\n",
       "      <th></th>\n",
       "    </tr>\n",
       "  </thead>\n",
       "  <tbody>\n",
       "    <tr>\n",
       "      <th>0</th>\n",
       "      <td>860</td>\n",
       "    </tr>\n",
       "    <tr>\n",
       "      <th>1</th>\n",
       "      <td>902</td>\n",
       "    </tr>\n",
       "    <tr>\n",
       "      <th>2</th>\n",
       "      <td>992</td>\n",
       "    </tr>\n",
       "    <tr>\n",
       "      <th>3</th>\n",
       "      <td>1123</td>\n",
       "    </tr>\n",
       "    <tr>\n",
       "      <th>4</th>\n",
       "      <td>1497</td>\n",
       "    </tr>\n",
       "    <tr>\n",
       "      <th>5</th>\n",
       "      <td>2000</td>\n",
       "    </tr>\n",
       "    <tr>\n",
       "      <th>6</th>\n",
       "      <td>1747</td>\n",
       "    </tr>\n",
       "  </tbody>\n",
       "</table>\n",
       "</div>"
      ],
      "text/plain": [
       "         y or 1\n",
       "weekday        \n",
       "0           860\n",
       "1           902\n",
       "2           992\n",
       "3          1123\n",
       "4          1497\n",
       "5          2000\n",
       "6          1747"
      ]
     },
     "execution_count": 177,
     "metadata": {},
     "output_type": "execute_result"
    }
   ],
   "source": [
    "df_UNDERINF[[\"y or 1\",\"weekday\"]].groupby(['weekday']).count()\n",
    "\n",
    "# Monday = 0, Sunday = 6\n",
    "# Monday = 0, Sunday = 6"
   ]
  },
  {
   "cell_type": "code",
   "execution_count": null,
   "metadata": {},
   "outputs": [],
   "source": []
  },
  {
   "cell_type": "code",
   "execution_count": null,
   "metadata": {},
   "outputs": [],
   "source": []
  },
  {
   "cell_type": "code",
   "execution_count": null,
   "metadata": {},
   "outputs": [],
   "source": []
  },
  {
   "cell_type": "code",
   "execution_count": null,
   "metadata": {},
   "outputs": [],
   "source": []
  },
  {
   "cell_type": "markdown",
   "metadata": {},
   "source": [
    "# Test Case 2 Speeding"
   ]
  },
  {
   "cell_type": "code",
   "execution_count": 168,
   "metadata": {
    "scrolled": true
   },
   "outputs": [
    {
     "name": "stderr",
     "output_type": "stream",
     "text": [
      "C:\\Users\\Alex Wong\\Anaconda3\\lib\\site-packages\\pandas\\core\\ops.py:1649: FutureWarning: elementwise comparison failed; returning scalar instead, but in the future will perform elementwise comparison\n",
      "  result = method(y)\n"
     ]
    },
    {
     "data": {
      "text/plain": [
       "SEVERITYCODE      0\n",
       "REPORTNO          0\n",
       "STATUS            0\n",
       "ADDRTYPE          0\n",
       "INTKEY            0\n",
       "LOCATION          0\n",
       "SEVERITYDESC      0\n",
       "COLLISIONTYPE     0\n",
       "PERSONCOUNT       0\n",
       "PEDCOUNT          0\n",
       "PEDCYLCOUNT       0\n",
       "VEHCOUNT          0\n",
       "INCDATE           0\n",
       "INCDTTM           0\n",
       "JUNCTIONTYPE      0\n",
       "SDOT_COLCODE      0\n",
       "SDOT_COLDESC      0\n",
       "INATTENTIONIND    0\n",
       "UNDERINFL         0\n",
       "WEATHER           0\n",
       "ROADCOND          0\n",
       "LIGHTCOND         0\n",
       "PEDROWNOTGRNT     0\n",
       "SPEEDING          0\n",
       "ST_COLCODE        0\n",
       "ST_COLDESC        0\n",
       "SEGLANEKEY        0\n",
       "CROSSWALKKEY      0\n",
       "HITPARKEDCAR      0\n",
       "year              0\n",
       "month             0\n",
       "day               0\n",
       "day_name          0\n",
       "weekday           0\n",
       "dtype: int64"
      ]
     },
     "execution_count": 168,
     "metadata": {},
     "output_type": "execute_result"
    }
   ],
   "source": [
    "df1[df1[\"SPEEDING\"] ==\"Y\"].count()"
   ]
  },
  {
   "cell_type": "code",
   "execution_count": null,
   "metadata": {},
   "outputs": [],
   "source": []
  },
  {
   "cell_type": "code",
   "execution_count": null,
   "metadata": {},
   "outputs": [],
   "source": []
  },
  {
   "cell_type": "code",
   "execution_count": null,
   "metadata": {},
   "outputs": [],
   "source": []
  },
  {
   "cell_type": "code",
   "execution_count": null,
   "metadata": {},
   "outputs": [],
   "source": []
  },
  {
   "cell_type": "code",
   "execution_count": null,
   "metadata": {},
   "outputs": [],
   "source": []
  },
  {
   "cell_type": "code",
   "execution_count": null,
   "metadata": {},
   "outputs": [],
   "source": []
  },
  {
   "cell_type": "code",
   "execution_count": null,
   "metadata": {},
   "outputs": [],
   "source": []
  },
  {
   "cell_type": "code",
   "execution_count": null,
   "metadata": {},
   "outputs": [],
   "source": []
  }
 ],
 "metadata": {
  "kernelspec": {
   "display_name": "Python 3",
   "language": "python",
   "name": "python3"
  },
  "language_info": {
   "codemirror_mode": {
    "name": "ipython",
    "version": 3
   },
   "file_extension": ".py",
   "mimetype": "text/x-python",
   "name": "python",
   "nbconvert_exporter": "python",
   "pygments_lexer": "ipython3",
   "version": "3.7.3"
  }
 },
 "nbformat": 4,
 "nbformat_minor": 2
}

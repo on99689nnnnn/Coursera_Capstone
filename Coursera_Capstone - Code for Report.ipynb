{
 "cells": [
  {
   "cell_type": "code",
   "execution_count": 185,
   "metadata": {
    "scrolled": true
   },
   "outputs": [
    {
     "name": "stderr",
     "output_type": "stream",
     "text": [
      "C:\\Users\\Alex Wong\\Anaconda3\\lib\\site-packages\\IPython\\core\\interactiveshell.py:3057: DtypeWarning: Columns (33) have mixed types. Specify dtype option on import or set low_memory=False.\n",
      "  interactivity=interactivity, compiler=compiler, result=result)\n",
      "C:\\Users\\Alex Wong\\Anaconda3\\lib\\site-packages\\pandas\\core\\frame.py:3940: SettingWithCopyWarning: \n",
      "A value is trying to be set on a copy of a slice from a DataFrame\n",
      "\n",
      "See the caveats in the documentation: http://pandas.pydata.org/pandas-docs/stable/indexing.html#indexing-view-versus-copy\n",
      "  errors=errors)\n"
     ]
    }
   ],
   "source": [
    "# preparation\n",
    "import numpy as np\n",
    "import pandas as pd\n",
    "df = pd.read_csv('https://s3.us.cloud-object-storage.appdomain.cloud/cf-courses-data/CognitiveClass/DP0701EN/version-2/Data-Collisions.csv', sep=',', delimiter=None, header='infer')\n",
    "pd.set_option('display.max_columns', None)\n",
    "df1=df\n",
    "df1=df[df.STATUS==\"Matched\"]\n",
    "df1.drop(['X','Y','SDOTCOLNUM','SEVERITYCODE.1','OBJECTID','INCKEY','COLDETKEY','EXCEPTRSNCODE','EXCEPTRSNDESC'], axis=1, index=None, columns=None, level=None, inplace=True, errors='raise')"
   ]
  },
  {
   "cell_type": "code",
   "execution_count": 206,
   "metadata": {},
   "outputs": [],
   "source": [
    "# Background Data Analysis:\n",
    "df2=df1.copy(deep=True) \n",
    "\n",
    "\n",
    "df2.dtypes\n",
    "df2.columns\n",
    "df2.count()\n",
    "df2.shape\n",
    "\n",
    " \n",
    "\n",
    " # Prepare date and time:\n",
    "df2['INCDATE']= pd.to_datetime(df2['INCDATE']) \n",
    "df2['year'] = df2['INCDATE'].dt.year\n",
    "df2['month'] = df2['INCDATE'].dt.month   \n",
    "df2['day'] = df2['INCDATE'].dt.day\n",
    "df2['weekday'] = df2['INCDATE'].dt.weekday  # Monday = 0, Sunday = 6\n",
    "df2['date'] = df2['INCDATE'].dt.date\n",
    "\n",
    "df2['INCDTTM']= pd.to_datetime(df2['INCDTTM']) \n",
    "df2['hour'] = df2['INCDTTM'].dt.hour "
   ]
  },
  {
   "cell_type": "code",
   "execution_count": 253,
   "metadata": {},
   "outputs": [
    {
     "data": {
      "text/plain": [
       "0         2013-03-27\n",
       "1         2006-12-20\n",
       "2         2004-11-18\n",
       "3         2013-03-29\n",
       "4         2004-01-28\n",
       "5         2019-04-20\n",
       "6         2008-12-09\n",
       "7         2020-04-15\n",
       "8         2006-06-15\n",
       "9         2006-03-20\n",
       "10        2006-05-25\n",
       "11        2005-08-11\n",
       "13        2005-12-22\n",
       "14        2013-03-31\n",
       "16        2005-07-01\n",
       "17        2004-01-16\n",
       "18        2020-04-17\n",
       "19        2009-06-01\n",
       "20        2013-03-27\n",
       "21        2013-03-28\n",
       "22        2008-07-18\n",
       "23        2004-09-12\n",
       "24        2013-03-31\n",
       "25        2019-04-25\n",
       "26        2010-11-13\n",
       "27        2007-07-23\n",
       "28        2013-03-25\n",
       "29        2006-11-16\n",
       "30        2005-11-05\n",
       "31        2004-07-21\n",
       "             ...    \n",
       "194640    2018-11-28\n",
       "194641    2018-12-03\n",
       "194642    2018-12-07\n",
       "194643    2018-11-17\n",
       "194644    2019-01-17\n",
       "194645    2018-10-20\n",
       "194647    2018-12-09\n",
       "194648    2018-11-30\n",
       "194649    2018-12-02\n",
       "194650    2019-01-13\n",
       "194651    2018-12-23\n",
       "194652    2018-12-20\n",
       "194653    2018-12-10\n",
       "194656    2019-01-23\n",
       "194657    2018-11-26\n",
       "194658    2019-01-18\n",
       "194659    2018-11-27\n",
       "194660    2018-12-23\n",
       "194661    2019-03-22\n",
       "194662    2018-12-05\n",
       "194663    2019-01-09\n",
       "194664    2018-12-30\n",
       "194665    2018-12-05\n",
       "194666    2019-01-04\n",
       "194667    2018-11-28\n",
       "194668    2018-11-12\n",
       "194669    2018-12-18\n",
       "194670    2019-01-19\n",
       "194671    2019-01-15\n",
       "194672    2018-11-30\n",
       "Name: date, Length: 189786, dtype: object"
      ]
     },
     "execution_count": 253,
     "metadata": {},
     "output_type": "execute_result"
    }
   ],
   "source": [
    "\n"
   ]
  },
  {
   "cell_type": "markdown",
   "metadata": {},
   "source": [
    "# Test Case 1.1 UNDERINFL - Whether or not a driver involved was under the influence of drugs or alcohol."
   ]
  },
  {
   "cell_type": "code",
   "execution_count": 191,
   "metadata": {},
   "outputs": [
    {
     "name": "stdout",
     "output_type": "stream",
     "text": [
      "4.81\n"
     ]
    }
   ],
   "source": [
    "# Driver involved was under the influence of drugs or alcohol = 9121\n",
    "# Total case = 189786\n",
    "#Overall %\n",
    "\n",
    "print (round(9121/189786*100,2))\n",
    "#4.81%\n"
   ]
  },
  {
   "cell_type": "markdown",
   "metadata": {},
   "source": [
    "# Test Case 2.1a UNDERINFL vs. Year, UNDERINFL means -  Accident that the driver involved was under the influence of drugs or alcohol "
   ]
  },
  {
   "cell_type": "code",
   "execution_count": 234,
   "metadata": {
    "scrolled": true
   },
   "outputs": [
    {
     "name": "stderr",
     "output_type": "stream",
     "text": [
      "C:\\Users\\Alex Wong\\Anaconda3\\lib\\site-packages\\ipykernel_launcher.py:4: SettingWithCopyWarning: \n",
      "A value is trying to be set on a copy of a slice from a DataFrame.\n",
      "Try using .loc[row_indexer,col_indexer] = value instead\n",
      "\n",
      "See the caveats in the documentation: http://pandas.pydata.org/pandas-docs/stable/indexing.html#indexing-view-versus-copy\n",
      "  after removing the cwd from sys.path.\n"
     ]
    }
   ],
   "source": [
    "# Prepare UNDERINF = Yes or 1, means drugs or alcohol \n",
    "\n",
    "df_UNDERINF = df2[(df2['UNDERINFL'] == 'Y') | (df2['UNDERINFL'] == '1')]\n",
    "\n",
    "df_UNDERINF.count()\n",
    "df_UNDERINF[\"y or 1\"]=1   "
   ]
  },
  {
   "cell_type": "code",
   "execution_count": 235,
   "metadata": {},
   "outputs": [
    {
     "data": {
      "text/html": [
       "<div>\n",
       "<style scoped>\n",
       "    .dataframe tbody tr th:only-of-type {\n",
       "        vertical-align: middle;\n",
       "    }\n",
       "\n",
       "    .dataframe tbody tr th {\n",
       "        vertical-align: top;\n",
       "    }\n",
       "\n",
       "    .dataframe thead th {\n",
       "        text-align: right;\n",
       "    }\n",
       "</style>\n",
       "<table border=\"1\" class=\"dataframe\">\n",
       "  <thead>\n",
       "    <tr style=\"text-align: right;\">\n",
       "      <th></th>\n",
       "      <th>SEVERITYCODE</th>\n",
       "      <th>REPORTNO</th>\n",
       "      <th>STATUS</th>\n",
       "      <th>ADDRTYPE</th>\n",
       "      <th>INTKEY</th>\n",
       "      <th>LOCATION</th>\n",
       "      <th>SEVERITYDESC</th>\n",
       "      <th>COLLISIONTYPE</th>\n",
       "      <th>PERSONCOUNT</th>\n",
       "      <th>PEDCOUNT</th>\n",
       "      <th>PEDCYLCOUNT</th>\n",
       "      <th>VEHCOUNT</th>\n",
       "      <th>INCDATE</th>\n",
       "      <th>INCDTTM</th>\n",
       "      <th>JUNCTIONTYPE</th>\n",
       "      <th>SDOT_COLCODE</th>\n",
       "      <th>SDOT_COLDESC</th>\n",
       "      <th>INATTENTIONIND</th>\n",
       "      <th>UNDERINFL</th>\n",
       "      <th>WEATHER</th>\n",
       "      <th>ROADCOND</th>\n",
       "      <th>LIGHTCOND</th>\n",
       "      <th>PEDROWNOTGRNT</th>\n",
       "      <th>SPEEDING</th>\n",
       "      <th>ST_COLCODE</th>\n",
       "      <th>ST_COLDESC</th>\n",
       "      <th>SEGLANEKEY</th>\n",
       "      <th>CROSSWALKKEY</th>\n",
       "      <th>HITPARKEDCAR</th>\n",
       "      <th>year</th>\n",
       "      <th>month</th>\n",
       "      <th>day</th>\n",
       "      <th>weekday</th>\n",
       "      <th>hour</th>\n",
       "    </tr>\n",
       "  </thead>\n",
       "  <tbody>\n",
       "  </tbody>\n",
       "</table>\n",
       "</div>"
      ],
      "text/plain": [
       "Empty DataFrame\n",
       "Columns: [SEVERITYCODE, REPORTNO, STATUS, ADDRTYPE, INTKEY, LOCATION, SEVERITYDESC, COLLISIONTYPE, PERSONCOUNT, PEDCOUNT, PEDCYLCOUNT, VEHCOUNT, INCDATE, INCDTTM, JUNCTIONTYPE, SDOT_COLCODE, SDOT_COLDESC, INATTENTIONIND, UNDERINFL, WEATHER, ROADCOND, LIGHTCOND, PEDROWNOTGRNT, SPEEDING, ST_COLCODE, ST_COLDESC, SEGLANEKEY, CROSSWALKKEY, HITPARKEDCAR, year, month, day, weekday, hour]\n",
       "Index: []"
      ]
     },
     "execution_count": 235,
     "metadata": {},
     "output_type": "execute_result"
    }
   ],
   "source": [
    "df2[(df2['year']==2020) & (df2['UNDERINFL']==\"Y\")]  # check 2020 no such record"
   ]
  },
  {
   "cell_type": "code",
   "execution_count": 242,
   "metadata": {},
   "outputs": [
    {
     "data": {
      "text/html": [
       "<div>\n",
       "<style scoped>\n",
       "    .dataframe tbody tr th:only-of-type {\n",
       "        vertical-align: middle;\n",
       "    }\n",
       "\n",
       "    .dataframe tbody tr th {\n",
       "        vertical-align: top;\n",
       "    }\n",
       "\n",
       "    .dataframe thead th {\n",
       "        text-align: right;\n",
       "    }\n",
       "</style>\n",
       "<table border=\"1\" class=\"dataframe\">\n",
       "  <thead>\n",
       "    <tr style=\"text-align: right;\">\n",
       "      <th></th>\n",
       "      <th>y or 1</th>\n",
       "    </tr>\n",
       "    <tr>\n",
       "      <th>year</th>\n",
       "      <th></th>\n",
       "    </tr>\n",
       "  </thead>\n",
       "  <tbody>\n",
       "    <tr>\n",
       "      <th>2004</th>\n",
       "      <td>568</td>\n",
       "    </tr>\n",
       "    <tr>\n",
       "      <th>2005</th>\n",
       "      <td>688</td>\n",
       "    </tr>\n",
       "    <tr>\n",
       "      <th>2006</th>\n",
       "      <td>725</td>\n",
       "    </tr>\n",
       "    <tr>\n",
       "      <th>2007</th>\n",
       "      <td>695</td>\n",
       "    </tr>\n",
       "    <tr>\n",
       "      <th>2008</th>\n",
       "      <td>605</td>\n",
       "    </tr>\n",
       "    <tr>\n",
       "      <th>2009</th>\n",
       "      <td>592</td>\n",
       "    </tr>\n",
       "    <tr>\n",
       "      <th>2010</th>\n",
       "      <td>589</td>\n",
       "    </tr>\n",
       "    <tr>\n",
       "      <th>2011</th>\n",
       "      <td>621</td>\n",
       "    </tr>\n",
       "    <tr>\n",
       "      <th>2012</th>\n",
       "      <td>594</td>\n",
       "    </tr>\n",
       "    <tr>\n",
       "      <th>2013</th>\n",
       "      <td>447</td>\n",
       "    </tr>\n",
       "    <tr>\n",
       "      <th>2014</th>\n",
       "      <td>499</td>\n",
       "    </tr>\n",
       "    <tr>\n",
       "      <th>2015</th>\n",
       "      <td>418</td>\n",
       "    </tr>\n",
       "    <tr>\n",
       "      <th>2016</th>\n",
       "      <td>523</td>\n",
       "    </tr>\n",
       "    <tr>\n",
       "      <th>2017</th>\n",
       "      <td>441</td>\n",
       "    </tr>\n",
       "    <tr>\n",
       "      <th>2018</th>\n",
       "      <td>589</td>\n",
       "    </tr>\n",
       "    <tr>\n",
       "      <th>2019</th>\n",
       "      <td>527</td>\n",
       "    </tr>\n",
       "  </tbody>\n",
       "</table>\n",
       "</div>"
      ],
      "text/plain": [
       "      y or 1\n",
       "year        \n",
       "2004     568\n",
       "2005     688\n",
       "2006     725\n",
       "2007     695\n",
       "2008     605\n",
       "2009     592\n",
       "2010     589\n",
       "2011     621\n",
       "2012     594\n",
       "2013     447\n",
       "2014     499\n",
       "2015     418\n",
       "2016     523\n",
       "2017     441\n",
       "2018     589\n",
       "2019     527"
      ]
     },
     "execution_count": 242,
     "metadata": {},
     "output_type": "execute_result"
    }
   ],
   "source": [
    "#test case 2.1a\n",
    "\n",
    "DF_UNDERINF_year=df_UNDERINF[[\"y or 1\",\"year\"]].groupby(['year']).count()\n",
    "DF_UNDERINF_year\n"
   ]
  },
  {
   "cell_type": "markdown",
   "metadata": {},
   "source": [
    "# Test Case 2.1b UNDERINFL vs. month"
   ]
  },
  {
   "cell_type": "code",
   "execution_count": 243,
   "metadata": {
    "scrolled": true
   },
   "outputs": [
    {
     "data": {
      "text/html": [
       "<div>\n",
       "<style scoped>\n",
       "    .dataframe tbody tr th:only-of-type {\n",
       "        vertical-align: middle;\n",
       "    }\n",
       "\n",
       "    .dataframe tbody tr th {\n",
       "        vertical-align: top;\n",
       "    }\n",
       "\n",
       "    .dataframe thead th {\n",
       "        text-align: right;\n",
       "    }\n",
       "</style>\n",
       "<table border=\"1\" class=\"dataframe\">\n",
       "  <thead>\n",
       "    <tr style=\"text-align: right;\">\n",
       "      <th></th>\n",
       "      <th>y or 1</th>\n",
       "    </tr>\n",
       "    <tr>\n",
       "      <th>month</th>\n",
       "      <th></th>\n",
       "    </tr>\n",
       "  </thead>\n",
       "  <tbody>\n",
       "    <tr>\n",
       "      <th>1</th>\n",
       "      <td>793</td>\n",
       "    </tr>\n",
       "    <tr>\n",
       "      <th>2</th>\n",
       "      <td>731</td>\n",
       "    </tr>\n",
       "    <tr>\n",
       "      <th>3</th>\n",
       "      <td>800</td>\n",
       "    </tr>\n",
       "    <tr>\n",
       "      <th>4</th>\n",
       "      <td>716</td>\n",
       "    </tr>\n",
       "    <tr>\n",
       "      <th>5</th>\n",
       "      <td>738</td>\n",
       "    </tr>\n",
       "    <tr>\n",
       "      <th>6</th>\n",
       "      <td>745</td>\n",
       "    </tr>\n",
       "    <tr>\n",
       "      <th>7</th>\n",
       "      <td>716</td>\n",
       "    </tr>\n",
       "    <tr>\n",
       "      <th>8</th>\n",
       "      <td>713</td>\n",
       "    </tr>\n",
       "    <tr>\n",
       "      <th>9</th>\n",
       "      <td>668</td>\n",
       "    </tr>\n",
       "    <tr>\n",
       "      <th>10</th>\n",
       "      <td>818</td>\n",
       "    </tr>\n",
       "    <tr>\n",
       "      <th>11</th>\n",
       "      <td>817</td>\n",
       "    </tr>\n",
       "    <tr>\n",
       "      <th>12</th>\n",
       "      <td>866</td>\n",
       "    </tr>\n",
       "  </tbody>\n",
       "</table>\n",
       "</div>"
      ],
      "text/plain": [
       "       y or 1\n",
       "month        \n",
       "1         793\n",
       "2         731\n",
       "3         800\n",
       "4         716\n",
       "5         738\n",
       "6         745\n",
       "7         716\n",
       "8         713\n",
       "9         668\n",
       "10        818\n",
       "11        817\n",
       "12        866"
      ]
     },
     "execution_count": 243,
     "metadata": {},
     "output_type": "execute_result"
    }
   ],
   "source": [
    "DF_UNDERINF_month=df_UNDERINF[[\"y or 1\",\"month\"]].groupby(['month']).count()\n",
    "\n",
    "DF_UNDERINF_month"
   ]
  },
  {
   "cell_type": "markdown",
   "metadata": {},
   "source": [
    "# Test Case 2.1c UNDERINFL vs. weekday"
   ]
  },
  {
   "cell_type": "code",
   "execution_count": 239,
   "metadata": {},
   "outputs": [
    {
     "data": {
      "text/html": [
       "<div>\n",
       "<style scoped>\n",
       "    .dataframe tbody tr th:only-of-type {\n",
       "        vertical-align: middle;\n",
       "    }\n",
       "\n",
       "    .dataframe tbody tr th {\n",
       "        vertical-align: top;\n",
       "    }\n",
       "\n",
       "    .dataframe thead th {\n",
       "        text-align: right;\n",
       "    }\n",
       "</style>\n",
       "<table border=\"1\" class=\"dataframe\">\n",
       "  <thead>\n",
       "    <tr style=\"text-align: right;\">\n",
       "      <th></th>\n",
       "      <th>y or 1</th>\n",
       "    </tr>\n",
       "    <tr>\n",
       "      <th>weekday</th>\n",
       "      <th></th>\n",
       "    </tr>\n",
       "  </thead>\n",
       "  <tbody>\n",
       "    <tr>\n",
       "      <th>0</th>\n",
       "      <td>860</td>\n",
       "    </tr>\n",
       "    <tr>\n",
       "      <th>1</th>\n",
       "      <td>902</td>\n",
       "    </tr>\n",
       "    <tr>\n",
       "      <th>2</th>\n",
       "      <td>992</td>\n",
       "    </tr>\n",
       "    <tr>\n",
       "      <th>3</th>\n",
       "      <td>1123</td>\n",
       "    </tr>\n",
       "    <tr>\n",
       "      <th>4</th>\n",
       "      <td>1497</td>\n",
       "    </tr>\n",
       "    <tr>\n",
       "      <th>5</th>\n",
       "      <td>2000</td>\n",
       "    </tr>\n",
       "    <tr>\n",
       "      <th>6</th>\n",
       "      <td>1747</td>\n",
       "    </tr>\n",
       "  </tbody>\n",
       "</table>\n",
       "</div>"
      ],
      "text/plain": [
       "         y or 1\n",
       "weekday        \n",
       "0           860\n",
       "1           902\n",
       "2           992\n",
       "3          1123\n",
       "4          1497\n",
       "5          2000\n",
       "6          1747"
      ]
     },
     "execution_count": 239,
     "metadata": {},
     "output_type": "execute_result"
    }
   ],
   "source": [
    "DF_UNDERINF_weekday=df_UNDERINF[[\"y or 1\",\"weekday\"]].groupby(['weekday']).count()\n",
    "\n",
    "# Monday = 0, Sunday = 6\n",
    "# Monday = 0, Sunday = 6\n",
    "DF_UNDERINF_weekday "
   ]
  },
  {
   "cell_type": "markdown",
   "metadata": {},
   "source": [
    "# Test Case 2.1d UNDERINFL vs. hour"
   ]
  },
  {
   "cell_type": "code",
   "execution_count": 240,
   "metadata": {},
   "outputs": [
    {
     "data": {
      "text/html": [
       "<div>\n",
       "<style scoped>\n",
       "    .dataframe tbody tr th:only-of-type {\n",
       "        vertical-align: middle;\n",
       "    }\n",
       "\n",
       "    .dataframe tbody tr th {\n",
       "        vertical-align: top;\n",
       "    }\n",
       "\n",
       "    .dataframe thead th {\n",
       "        text-align: right;\n",
       "    }\n",
       "</style>\n",
       "<table border=\"1\" class=\"dataframe\">\n",
       "  <thead>\n",
       "    <tr style=\"text-align: right;\">\n",
       "      <th></th>\n",
       "      <th>y or 1</th>\n",
       "    </tr>\n",
       "    <tr>\n",
       "      <th>hour</th>\n",
       "      <th></th>\n",
       "    </tr>\n",
       "  </thead>\n",
       "  <tbody>\n",
       "    <tr>\n",
       "      <th>0</th>\n",
       "      <td>1927</td>\n",
       "    </tr>\n",
       "    <tr>\n",
       "      <th>1</th>\n",
       "      <td>866</td>\n",
       "    </tr>\n",
       "    <tr>\n",
       "      <th>2</th>\n",
       "      <td>854</td>\n",
       "    </tr>\n",
       "    <tr>\n",
       "      <th>3</th>\n",
       "      <td>298</td>\n",
       "    </tr>\n",
       "    <tr>\n",
       "      <th>4</th>\n",
       "      <td>187</td>\n",
       "    </tr>\n",
       "    <tr>\n",
       "      <th>5</th>\n",
       "      <td>93</td>\n",
       "    </tr>\n",
       "    <tr>\n",
       "      <th>6</th>\n",
       "      <td>66</td>\n",
       "    </tr>\n",
       "    <tr>\n",
       "      <th>7</th>\n",
       "      <td>77</td>\n",
       "    </tr>\n",
       "    <tr>\n",
       "      <th>8</th>\n",
       "      <td>79</td>\n",
       "    </tr>\n",
       "    <tr>\n",
       "      <th>9</th>\n",
       "      <td>68</td>\n",
       "    </tr>\n",
       "    <tr>\n",
       "      <th>10</th>\n",
       "      <td>75</td>\n",
       "    </tr>\n",
       "    <tr>\n",
       "      <th>11</th>\n",
       "      <td>109</td>\n",
       "    </tr>\n",
       "    <tr>\n",
       "      <th>12</th>\n",
       "      <td>85</td>\n",
       "    </tr>\n",
       "    <tr>\n",
       "      <th>13</th>\n",
       "      <td>123</td>\n",
       "    </tr>\n",
       "    <tr>\n",
       "      <th>14</th>\n",
       "      <td>153</td>\n",
       "    </tr>\n",
       "    <tr>\n",
       "      <th>15</th>\n",
       "      <td>173</td>\n",
       "    </tr>\n",
       "    <tr>\n",
       "      <th>16</th>\n",
       "      <td>195</td>\n",
       "    </tr>\n",
       "    <tr>\n",
       "      <th>17</th>\n",
       "      <td>294</td>\n",
       "    </tr>\n",
       "    <tr>\n",
       "      <th>18</th>\n",
       "      <td>351</td>\n",
       "    </tr>\n",
       "    <tr>\n",
       "      <th>19</th>\n",
       "      <td>420</td>\n",
       "    </tr>\n",
       "    <tr>\n",
       "      <th>20</th>\n",
       "      <td>509</td>\n",
       "    </tr>\n",
       "    <tr>\n",
       "      <th>21</th>\n",
       "      <td>629</td>\n",
       "    </tr>\n",
       "    <tr>\n",
       "      <th>22</th>\n",
       "      <td>738</td>\n",
       "    </tr>\n",
       "    <tr>\n",
       "      <th>23</th>\n",
       "      <td>752</td>\n",
       "    </tr>\n",
       "  </tbody>\n",
       "</table>\n",
       "</div>"
      ],
      "text/plain": [
       "      y or 1\n",
       "hour        \n",
       "0       1927\n",
       "1        866\n",
       "2        854\n",
       "3        298\n",
       "4        187\n",
       "5         93\n",
       "6         66\n",
       "7         77\n",
       "8         79\n",
       "9         68\n",
       "10        75\n",
       "11       109\n",
       "12        85\n",
       "13       123\n",
       "14       153\n",
       "15       173\n",
       "16       195\n",
       "17       294\n",
       "18       351\n",
       "19       420\n",
       "20       509\n",
       "21       629\n",
       "22       738\n",
       "23       752"
      ]
     },
     "execution_count": 240,
     "metadata": {},
     "output_type": "execute_result"
    }
   ],
   "source": [
    "DF_UNDERINF_hour=df_UNDERINF[[\"y or 1\",\"hour\"]].groupby(['hour']).count()\n",
    "DF_UNDERINF_hour"
   ]
  },
  {
   "cell_type": "markdown",
   "metadata": {},
   "source": [
    "# Test Case 2.1d UNDERINFL vs. Holiday"
   ]
  },
  {
   "cell_type": "code",
   "execution_count": 308,
   "metadata": {},
   "outputs": [
    {
     "data": {
      "text/plain": [
       "SEVERITYCODE      3947\n",
       "REPORTNO          3947\n",
       "STATUS            3947\n",
       "ADDRTYPE          3921\n",
       "INTKEY            1289\n",
       "LOCATION          3899\n",
       "SEVERITYDESC      3947\n",
       "COLLISIONTYPE     3947\n",
       "PERSONCOUNT       3947\n",
       "PEDCOUNT          3947\n",
       "PEDCYLCOUNT       3947\n",
       "VEHCOUNT          3947\n",
       "INCDATE           3947\n",
       "INCDTTM           3947\n",
       "JUNCTIONTYPE      3824\n",
       "SDOT_COLCODE      3947\n",
       "SDOT_COLDESC      3947\n",
       "INATTENTIONIND     538\n",
       "UNDERINFL         3947\n",
       "WEATHER           3942\n",
       "ROADCOND          3943\n",
       "LIGHTCOND         3937\n",
       "PEDROWNOTGRNT       88\n",
       "SPEEDING           240\n",
       "ST_COLCODE        3947\n",
       "ST_COLDESC        3947\n",
       "SEGLANEKEY        3947\n",
       "CROSSWALKKEY      3947\n",
       "HITPARKEDCAR      3947\n",
       "year              3947\n",
       "month             3947\n",
       "day               3947\n",
       "weekday           3947\n",
       "hour              3947\n",
       "date              3947\n",
       "Holiday           3947\n",
       "dtype: int64"
      ]
     },
     "execution_count": 308,
     "metadata": {},
     "output_type": "execute_result"
    }
   ],
   "source": [
    "from pandas.tseries.holiday import USFederalHolidayCalendar as calendar\n",
    "\n",
    "cal = calendar()\n",
    "holidays = cal.holidays(start=df2['date'].min(), end=df2['date'].max())\n",
    "  \n",
    "df2['Holiday'] = df2['date'].isin(holidays)\n",
    "holidays\n",
    "\n",
    "type(df2['date'])\n",
    "\n",
    "\n",
    "type(holidays)\n",
    "\n",
    "\n",
    "df2['date'] = pd.to_datetime(df2['date'],format='%Y-%m-%d')\n",
    "df2['date'][11]\n",
    "\n",
    "df2['Holiday'] = df2['date'].isin(holidays)\n",
    "df2[df2['Holiday']].sort_values(by='date', ascending=True) \n",
    "\n",
    "#3947 accident happend during holiday)"
   ]
  },
  {
   "cell_type": "code",
   "execution_count": 309,
   "metadata": {},
   "outputs": [
    {
     "data": {
      "text/plain": [
       "43.27376384168403"
      ]
     },
     "execution_count": 309,
     "metadata": {},
     "output_type": "execute_result"
    }
   ],
   "source": [
    "3947/9121*100"
   ]
  },
  {
   "cell_type": "code",
   "execution_count": null,
   "metadata": {},
   "outputs": [],
   "source": []
  },
  {
   "cell_type": "markdown",
   "metadata": {},
   "source": [
    "# Test Case 2 Speeding"
   ]
  },
  {
   "cell_type": "code",
   "execution_count": 168,
   "metadata": {
    "scrolled": true
   },
   "outputs": [
    {
     "name": "stderr",
     "output_type": "stream",
     "text": [
      "C:\\Users\\Alex Wong\\Anaconda3\\lib\\site-packages\\pandas\\core\\ops.py:1649: FutureWarning: elementwise comparison failed; returning scalar instead, but in the future will perform elementwise comparison\n",
      "  result = method(y)\n"
     ]
    },
    {
     "data": {
      "text/plain": [
       "SEVERITYCODE      0\n",
       "REPORTNO          0\n",
       "STATUS            0\n",
       "ADDRTYPE          0\n",
       "INTKEY            0\n",
       "LOCATION          0\n",
       "SEVERITYDESC      0\n",
       "COLLISIONTYPE     0\n",
       "PERSONCOUNT       0\n",
       "PEDCOUNT          0\n",
       "PEDCYLCOUNT       0\n",
       "VEHCOUNT          0\n",
       "INCDATE           0\n",
       "INCDTTM           0\n",
       "JUNCTIONTYPE      0\n",
       "SDOT_COLCODE      0\n",
       "SDOT_COLDESC      0\n",
       "INATTENTIONIND    0\n",
       "UNDERINFL         0\n",
       "WEATHER           0\n",
       "ROADCOND          0\n",
       "LIGHTCOND         0\n",
       "PEDROWNOTGRNT     0\n",
       "SPEEDING          0\n",
       "ST_COLCODE        0\n",
       "ST_COLDESC        0\n",
       "SEGLANEKEY        0\n",
       "CROSSWALKKEY      0\n",
       "HITPARKEDCAR      0\n",
       "year              0\n",
       "month             0\n",
       "day               0\n",
       "day_name          0\n",
       "weekday           0\n",
       "dtype: int64"
      ]
     },
     "execution_count": 168,
     "metadata": {},
     "output_type": "execute_result"
    }
   ],
   "source": [
    "df1[df1[\"SPEEDING\"] ==\"Y\"].count()"
   ]
  },
  {
   "cell_type": "code",
   "execution_count": null,
   "metadata": {},
   "outputs": [],
   "source": []
  },
  {
   "cell_type": "code",
   "execution_count": null,
   "metadata": {},
   "outputs": [],
   "source": []
  },
  {
   "cell_type": "code",
   "execution_count": null,
   "metadata": {},
   "outputs": [],
   "source": []
  },
  {
   "cell_type": "code",
   "execution_count": null,
   "metadata": {},
   "outputs": [],
   "source": []
  },
  {
   "cell_type": "code",
   "execution_count": null,
   "metadata": {},
   "outputs": [],
   "source": []
  },
  {
   "cell_type": "code",
   "execution_count": null,
   "metadata": {},
   "outputs": [],
   "source": []
  },
  {
   "cell_type": "code",
   "execution_count": null,
   "metadata": {},
   "outputs": [],
   "source": []
  },
  {
   "cell_type": "code",
   "execution_count": null,
   "metadata": {},
   "outputs": [],
   "source": []
  }
 ],
 "metadata": {
  "kernelspec": {
   "display_name": "Python 3",
   "language": "python",
   "name": "python3"
  },
  "language_info": {
   "codemirror_mode": {
    "name": "ipython",
    "version": 3
   },
   "file_extension": ".py",
   "mimetype": "text/x-python",
   "name": "python",
   "nbconvert_exporter": "python",
   "pygments_lexer": "ipython3",
   "version": "3.7.3"
  }
 },
 "nbformat": 4,
 "nbformat_minor": 2
}

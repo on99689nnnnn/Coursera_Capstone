{
 "cells": [
  {
   "cell_type": "markdown",
   "metadata": {},
   "source": [
    "this notebook will be mainly used for the capstone project."
   ]
  },
  {
   "cell_type": "code",
   "execution_count": 1,
   "metadata": {},
   "outputs": [
    {
     "name": "stdout",
     "output_type": "stream",
     "text": [
      "Hello Capstone Project Course!\n"
     ]
    }
   ],
   "source": [
    "import numpy as np\n",
    "import pandas as pd\n",
    "\n",
    "\n",
    "\n",
    "print (\"Hello Capstone Project Course!\")\n",
    "\n",
    "#This the for the Assignment \n",
    "#This the for the Assignment \n",
    "#This the for the Assignment \n",
    "#This the for the Assignment \n",
    "#This the for the Assignment "
   ]
  },
  {
   "cell_type": "code",
   "execution_count": null,
   "metadata": {},
   "outputs": [],
   "source": []
  },
  {
   "cell_type": "code",
   "execution_count": null,
   "metadata": {},
   "outputs": [],
   "source": []
  },
  {
   "cell_type": "code",
   "execution_count": null,
   "metadata": {},
   "outputs": [],
   "source": []
  },
  {
   "cell_type": "code",
   "execution_count": null,
   "metadata": {},
   "outputs": [],
   "source": []
  },
  {
   "cell_type": "markdown",
   "metadata": {},
   "source": [
    "For the FIRST week, you will required to submit the following:\n",
    "<br>\n",
    "<p>A description of the problem and a discussion of the background. (15 marks)\n",
    "<p>A description of the data and how it will be used to solve the problem. (15 marks)\n",
    "<br>  "
   ]
  },
  {
   "cell_type": "markdown",
   "metadata": {},
   "source": [
    "For the SECOND week, the final deliverables of the project will be:\n",
    "<br>  \n",
    "<p>1. A link to your Notebook on your Github repository, showing your code. (15 marks)\n",
    "<br>  \n",
    "<p>2. A full report consisting of all of the following components (15 marks):\n",
    "- Introduction where you discuss the business problem and who would be interested in this project.\n",
    "- Data where you describe the data that will be used to solve the problem and the source of the data.\n",
    "- Methodology section which represents the main component of the report where you discuss and describe any exploratory data analysis that you did, any inferential statistical testing that you performed, if any, and what machine learnings were used and why.\n",
    "- Results section where you discuss the results.\n",
    "- Discussion section where you discuss any observations you noted and any recommendations you can make based on the - results.\n",
    "- Conclusion section where you conclude the report. \n",
    "<br> "
   ]
  },
  {
   "cell_type": "markdown",
   "metadata": {},
   "source": [
    "<p>3. Your choice of a presentation or blogpost. (10 marks)\n",
    "<br>   \n",
    "Here are examples of previous outstanding submissions that should give you an idea of what your report would look like, what your notebook would look like in terms of clean, clear, and well-commented code, and what your presentation would look like or your blogpost would look like:\n",
    "<br>   \n",
    "<P>Report: https://cocl.us/coursera_capstone_report\n",
    "<P>Notebook: https://cocl.us/coursera_capstone_notebook\n",
    "<P>Presentation: https://cocl.us/coursera_capstone_presentation\n",
    "<P>Blogpost: https://cocl.us/coursera_capstone_blogpost\n",
    "  \n",
    "<br> "
   ]
  },
  {
   "cell_type": "code",
   "execution_count": null,
   "metadata": {},
   "outputs": [],
   "source": []
  },
  {
   "cell_type": "code",
   "execution_count": null,
   "metadata": {},
   "outputs": [],
   "source": []
  },
  {
   "cell_type": "markdown",
   "metadata": {},
   "source": []
  }
 ],
 "metadata": {
  "kernelspec": {
   "display_name": "Python 3",
   "language": "python",
   "name": "python3"
  },
  "language_info": {
   "codemirror_mode": {
    "name": "ipython",
    "version": 3
   },
   "file_extension": ".py",
   "mimetype": "text/x-python",
   "name": "python",
   "nbconvert_exporter": "python",
   "pygments_lexer": "ipython3",
   "version": "3.7.3"
  }
 },
 "nbformat": 4,
 "nbformat_minor": 2
}
